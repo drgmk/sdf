{
 "cells": [
  {
   "metadata": {},
   "cell_type": "markdown",
   "source": [
    "### Generate some photometry files to fit from a table\n",
    "This is an example of how to generate some photometry files that can be read in and fit with `sdf`. In this case each row is a single target that has photometry from mulitple catalogues.\n",
    "\n",
    "A hash and temporary file is used so that files are only updated if they have changed. This is convenient if only some of the files change for some reason and the fitting has already been run (which only updates if the photometry file is more recent than the fit)."
   ],
   "id": "918394099f5986e4"
  },
  {
   "cell_type": "code",
   "id": "initial_id",
   "metadata": {
    "collapsed": true,
    "ExecuteTime": {
     "end_time": "2025-02-25T15:03:26.876950Z",
     "start_time": "2025-02-25T15:03:26.000871Z"
    }
   },
   "source": [
    "import os\n",
    "import hashlib\n",
    "import numpy as np\n",
    "from astropy.table import Table"
   ],
   "outputs": [],
   "execution_count": 1
  },
  {
   "metadata": {
    "ExecuteTime": {
     "end_time": "2025-02-25T15:03:26.894916Z",
     "start_time": "2025-02-25T15:03:26.881004Z"
    }
   },
   "cell_type": "code",
   "source": [
    "t = Table.read('path/to/selection_photo339.csv')\n",
    "t.columns"
   ],
   "id": "853bd75b1b3d2a7a",
   "outputs": [
    {
     "data": {
      "text/plain": [
       "<TableColumns names=('Source','RA_ICRS','DE_ICRS','e_RAdeg','e_DEdeg','Plx','e_Plx','RPlx','PM','pmRA','e_pmRA','pmDE','e_pmDE','RUWE','FG','e_FG','Gmag','e_Gmag','o_BPmag','FBP','e_FBP','RFBP','BPmag','e_BPmag','FRP','e_FRP','RFRP','RPmag','e_RPmag','E(BP/RP)','BP-RP','BP-G','G-RP','RV','e_RV','GRVSmag','e_GRVSmag','o_GRVSmag','Teff','b_Teff_x','B_Teff_xa','logg','b_logg_x','B_logg_xa','[Fe/H]','b_[Fe/H]_x','B_[Fe/H]_xa','Dist','b_Dist_x','B_Dist_xa','A0','b_A0_x','B_A0_xa','AG','b_AG_x','B_AG_xa','E(BP-RP)','b_E(BP-RP)_x','B_E(BP-RP)_xa','Lib','BTmag','e_BTmag','VTmag','e_VTmag','Bmag','Vmag','Rmag','AllWISE','RAJ2000','DEJ2000','eeMaj','eeMin','eePA','W1mag','W2mag','W3mag','W4mag','Jmag','Hmag','Kmag','e_W1mag','e_W2mag','e_W3mag','e_W4mag','e_Jmag','e_Hmag','e_Kmag','ID','ccf','ex','var','qph')>"
      ]
     },
     "execution_count": 2,
     "metadata": {},
     "output_type": "execute_result"
    }
   ],
   "execution_count": 2
  },
  {
   "metadata": {
    "ExecuteTime": {
     "end_time": "2025-02-25T15:03:26.948580Z",
     "start_time": "2025-02-25T15:03:26.942788Z"
    }
   },
   "cell_type": "code",
   "source": [
    "# as a cheat read in an existing photometry file to use as a template\n",
    "o = Table.read('/Users/grant/tmp/sdb/masters/sdb-v2-011125.42+152621.5/public/sdb-v2-011125.42+152621.5-rawphot.txt', format='ipac')\n",
    "o.remove_rows(np.arange(len(o)))\n",
    "o.meta['comments'].pop()\n",
    "o"
   ],
   "id": "9f8730cb5653a0ef",
   "outputs": [
    {
     "data": {
      "text/plain": [
       "<Table length=0>\n",
       "Band   Phot    Err     Sys    Lim  Unit ... Note1 Note2 SourceID private exclude\n",
       "str7 float64 float64 float64 int64 str3 ... str14 str10  str25    int64   int64 \n",
       "---- ------- ------- ------- ----- ---- ... ----- ----- -------- ------- -------"
      ],
      "text/html": [
       "<div><i>Table length=0</i>\n",
       "<table id=\"table140671859383840\" class=\"table-striped table-bordered table-condensed\">\n",
       "<thead><tr><th>Band</th><th>Phot</th><th>Err</th><th>Sys</th><th>Lim</th><th>Unit</th><th>bibcode</th><th>Note1</th><th>Note2</th><th>SourceID</th><th>private</th><th>exclude</th></tr></thead>\n",
       "<thead><tr><th>str7</th><th>float64</th><th>float64</th><th>float64</th><th>int64</th><th>str3</th><th>str19</th><th>str14</th><th>str10</th><th>str25</th><th>int64</th><th>int64</th></tr></thead>\n",
       "</table></div>"
      ]
     },
     "execution_count": 3,
     "metadata": {},
     "output_type": "execute_result"
    }
   ],
   "execution_count": 3
  },
  {
   "metadata": {
    "ExecuteTime": {
     "end_time": "2025-02-25T15:03:26.972164Z",
     "start_time": "2025-02-25T15:03:26.968720Z"
    }
   },
   "cell_type": "code",
   "source": [
    "def filehash(file):\n",
    "    \"\"\"Return an md5 hash for a given file, ignoring IPAC comments.\"\"\"\n",
    "    hasher = hashlib.md5()\n",
    "    buf = b''\n",
    "    with open(file,'r') as f:\n",
    "        for text in f:\n",
    "            if len(text) <= 2: # \"\\\" and newline at a minimum\n",
    "                pass\n",
    "            elif text[0:2] == '\\ ':\n",
    "                pass\n",
    "            else:\n",
    "                #                print(len(text),\"|\"+text+\"|\")\n",
    "                buf += text.encode()\n",
    "\n",
    "    hasher.update(buf)\n",
    "    return hasher.hexdigest()"
   ],
   "id": "aa4ba88b065d2d0d",
   "outputs": [],
   "execution_count": 4
  },
  {
   "metadata": {
    "ExecuteTime": {
     "end_time": "2025-02-25T15:03:29.623222Z",
     "start_time": "2025-02-25T15:03:26.997747Z"
    }
   },
   "cell_type": "code",
   "source": [
    "for r in t:\n",
    "    phot = o.copy()\n",
    "\n",
    "    # meta\n",
    "    phot.meta['keywords']['main_id'] = {'value': f'Gaia DR3 {r[\"Source\"]}'}\n",
    "    phot.meta['keywords']['raj2000'] = {'value': r['RA_ICRS']}\n",
    "    phot.meta['keywords']['dej2000'] = {'value': r['DE_ICRS']}\n",
    "    phot.meta['keywords']['sp_type'] = {'value': None}\n",
    "    phot.meta['keywords']['sp_bibcode'] = {'value': None}\n",
    "    phot.meta['keywords']['plx_value'] = {'value': r['Plx']}\n",
    "    phot.meta['keywords']['plx_err'] = {'value': r['e_Plx']}\n",
    "    phot.meta['keywords']['plx_bibcode'] = {'value': 'Gaia'}\n",
    "    phot.meta['keywords']['id'] = phot.meta['keywords']['main_id']\n",
    "\n",
    "    # photometry\n",
    "    phot.add_row(['BT', r['BTmag'], r['e_BTmag'], 0.02, 0, 'mag', 'Tycho2', '', '', '', 0, 0])\n",
    "    phot.add_row(['VT', r['VTmag'], r['e_VTmag'], 0.02, 0, 'mag', 'Tycho2', '', '', '', 0, 0])\n",
    "    phot.add_row(['GAIA.BP', r['BPmag'], r['e_BPmag'], 0.02, 0, 'mag', 'Gaia', '', '', '', 0, 0])\n",
    "    phot.add_row(['GAIA.RP', r['RPmag'], r['e_RPmag'], 0.02, 0, 'mag', 'Gaia', '', '', '', 0, 0])\n",
    "    phot.add_row(['GAIA.G', r['Gmag'], r['e_Gmag'], 0.02, 0, 'mag', 'Gaia', '', '', '', 0, 0])\n",
    "    phot.add_row(['2MJ', r['Jmag'], r['e_Jmag'], 0.02, 0, 'mag', '2MASS', '', '', '', 0, 0])\n",
    "    phot.add_row(['2MH', r['Hmag'], r['e_Hmag'], 0.02, 0, 'mag', '2MASS', '', '', '', 0, 0])\n",
    "    phot.add_row(['2MKS', r['Kmag'], r['e_Kmag'], 0.02, 0, 'mag', '2MASS', '', '', '', 0, 0])\n",
    "    phot.add_row(['WISE3P4', r['W1mag'], r['e_W1mag'], 0.02, int(r['qph'][0] == 'U'), 'mag', 'WISE', '', '', '', 0, int(r['ccf'][0] in ['H', 'D', 'P', 'O'])])\n",
    "    phot.add_row(['WISE4P6', r['W2mag'], r['e_W2mag'], 0.02, int(r['qph'][1] == 'U'), 'mag', 'WISE', '', '', '', 0, int(r['ccf'][1] in ['H', 'D', 'P', 'O'])])\n",
    "    phot.add_row(['WISE12', r['W3mag'], r['e_W3mag'], 0.02, int(r['qph'][2] == 'U'), 'mag', 'WISE', '', '', '', 0, int(r['ccf'][2] in ['H', 'D', 'P', 'O'])])\n",
    "    phot.add_row(['WISE22', r['W4mag'], r['e_W4mag'], 0.02, int(r['qph'][3] == 'U'), 'mag', 'WISE', '', '', '', 0, int(r['ccf'][3] in ['H', 'D', 'P', 'O'])])\n",
    "\n",
    "    wp = f'/Users/grant/tmp/sdb/masters/herbig/{r[\"Source\"]}'\n",
    "    file = f'{wp}/{r[\"Source\"]}-rawphot.txt'\n",
    "    if not os.path.exists(wp):\n",
    "        os.mkdir(wp)\n",
    "\n",
    "    oldhash = filehash(file)\n",
    "    phot.write('/tmp/tmp.txt', format='ipac', overwrite=True)\n",
    "    newhash = filehash('/tmp/tmp.txt')\n",
    "    if oldhash != newhash:\n",
    "        os.rename('/tmp/tmp.txt', file)\n",
    "        print(f'updating {file}')\n",
    "    else:\n",
    "        # print(f'not updating {file}')\n",
    "        pass\n",
    "\n",
    "    if os.path.exists('/tmp/tmp.txt'):\n",
    "        os.remove('/tmp/tmp.txt')"
   ],
   "id": "e13bead7e51d9317",
   "outputs": [],
   "execution_count": 5
  },
  {
   "metadata": {
    "ExecuteTime": {
     "end_time": "2025-02-25T15:03:29.632174Z",
     "start_time": "2025-02-25T15:03:29.630771Z"
    }
   },
   "cell_type": "code",
   "source": "",
   "id": "d41b3c5b3a733436",
   "outputs": [],
   "execution_count": null
  }
 ],
 "metadata": {
  "kernelspec": {
   "display_name": "Python 3",
   "language": "python",
   "name": "python3"
  },
  "language_info": {
   "codemirror_mode": {
    "name": "ipython",
    "version": 2
   },
   "file_extension": ".py",
   "mimetype": "text/x-python",
   "name": "python",
   "nbconvert_exporter": "python",
   "pygments_lexer": "ipython2",
   "version": "2.7.6"
  }
 },
 "nbformat": 4,
 "nbformat_minor": 5
}
