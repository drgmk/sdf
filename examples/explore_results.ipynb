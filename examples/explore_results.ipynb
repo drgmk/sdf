{
 "cells": [
  {
   "cell_type": "markdown",
   "id": "opposed-feedback",
   "metadata": {},
   "source": [
    "## Explore `sdf` output\n",
    "`sdf` generates a large amount of information during fitting. Most of this is saved in a database that isn't visible on the web, and also in `pickle` files that can be found for each model under the \"...\" link.\n",
    "\n",
    "A simpler output is the `json` files under the \"model\" link, there is less detail here, but they are sufficient for plotting.\n",
    "\n",
    "To just explore the output you can probably avoid installing the `sdf` package."
   ]
  },
  {
   "cell_type": "code",
   "execution_count": 11,
   "id": "dying-boards",
   "metadata": {},
   "outputs": [],
   "source": [
    "import requests\n",
    "import pickle\n",
    "import matplotlib.pyplot as plt\n",
    "\n",
    "%matplotlib inline"
   ]
  },
  {
   "cell_type": "markdown",
   "id": "outstanding-special",
   "metadata": {},
   "source": [
    "### json output\n",
    "To explore json output we don't need any special packages. Either download directly with `requests`, or open with the `json` module."
   ]
  },
  {
   "cell_type": "code",
   "execution_count": 2,
   "id": "constant-softball",
   "metadata": {},
   "outputs": [],
   "source": [
    "r = requests.get('http://drgmk.com/sdb/seds/masters/'\n",
    "                 'sdb-v2-132436.10-513016.1/public/sdb-v2-132436.10-513016.1-mnest/phoenix_m+modbb_disk_r_.json')"
   ]
  },
  {
   "cell_type": "code",
   "execution_count": 3,
   "id": "enabling-angola",
   "metadata": {},
   "outputs": [],
   "source": [
    "d = r.json()"
   ]
  },
  {
   "cell_type": "code",
   "execution_count": 4,
   "id": "important-validation",
   "metadata": {},
   "outputs": [
    {
     "name": "stdout",
     "output_type": "stream",
     "text": [
      "id <class 'str'>\n",
      "write_time <class 'float'>\n",
      "model_comps <class 'list'>\n",
      "main_results <class 'list'>\n",
      "parameters <class 'list'>\n",
      "best_params <class 'list'>\n",
      "best_params_1sig <class 'list'>\n",
      "chisq <class 'float'>\n",
      "phot_band <class 'list'>\n",
      "phot_wavelength <class 'list'>\n",
      "phot_fnujy <class 'list'>\n",
      "phot_e_fnujy <class 'list'>\n",
      "phot_upperlim <class 'list'>\n",
      "phot_ignore <class 'list'>\n",
      "model_comp_fnujy <class 'list'>\n",
      "model_comp_fnujy_1sig <class 'list'>\n",
      "model_total_fnujy <class 'list'>\n",
      "model_total_fnujy_1sig <class 'list'>\n",
      "spectra <class 'list'>\n",
      "model_spectra <class 'list'>\n",
      "star_spec <class 'dict'>\n",
      "disk_spec <class 'dict'>\n"
     ]
    }
   ],
   "source": [
    "for k in d.keys():\n",
    "    print(k, type(d[k]))"
   ]
  },
  {
   "cell_type": "markdown",
   "id": "affected-receipt",
   "metadata": {},
   "source": [
    "The information contained in the json is largely related to the observational data, e.g. photometry and models in the observed bands.\n",
    "\n",
    "There are also spectra for each model component."
   ]
  },
  {
   "cell_type": "markdown",
   "id": "toxic-anthony",
   "metadata": {},
   "source": [
    "### pickle output\n",
    "To explore the pickle data we need the `pickle` package. There is a tonne of information saved here, including fluxes for the models in all bands known to `sdf`, and the distributions from which those fluxes were derived."
   ]
  },
  {
   "cell_type": "code",
   "execution_count": 5,
   "id": "printable-engine",
   "metadata": {},
   "outputs": [],
   "source": [
    "s = requests.get('http://drgmk.com/sdb/seds/masters/'\n",
    "                 'sdb-v2-132436.10-513016.1/public/sdb-v2-132436.10-513016.1-mnest/phoenix_m+modbb_disk_r_.pkl')"
   ]
  },
  {
   "cell_type": "code",
   "execution_count": 6,
   "id": "religious-moisture",
   "metadata": {},
   "outputs": [
    {
     "name": "stdout",
     "output_type": "stream",
     "text": [
      " Config\n",
      "  found files:\n",
      "['/Users/grant/OneDrive - University of Warwick/astro/projects/sdf/sdf/sdf/sdf.conf', '/Users/grant/.sdf.conf']\n"
     ]
    }
   ],
   "source": [
    "r = pickle.loads(s.content)"
   ]
  },
  {
   "cell_type": "code",
   "execution_count": 7,
   "id": "corporate-secondary",
   "metadata": {},
   "outputs": [
    {
     "name": "stdout",
     "output_type": "stream",
     "text": [
      "filter: ('phoenix_m', 'modbb_disk_r'), total\n",
      "NIRCAM.F150W [2.22109445e+00 8.60775124e-13] 2.221094447749989\n",
      "NIRCAM.F405N [4.01594920e-01 1.40014075e-05] 0.40198167554944675\n",
      "NIRCAM.F323N [6.31433794e-01 1.26312939e-06] 0.6317069232068959\n",
      "NIRCAM.F210M [1.34011356e+00 1.24097338e-09] 1.3401350156375142\n",
      "NIRCAM.F150W2 [2.17495282e+00 5.98635641e-10] 2.174952827024812\n",
      "NIRCAM.F212N [1.31526408e+00 1.37559908e-09] 1.3152641613019325\n",
      "NIRCAM.F444W [3.62630394e-01 3.26510940e-05] 0.36313557963731585\n",
      "NIRCAM.F322W2 [6.71735675e-01 2.77060541e-06] 0.6720221640384965\n",
      "NIRCAM.F356W [5.33005881e-01 4.66155770e-06] 0.5332328992755784\n",
      "NIRCAM.F410M [4.10606039e-01 1.54473350e-05] 0.4110874340632831\n",
      "NIRCAM.F187N [1.53552901e+00 9.00804086e-11] 1.535569022033678\n",
      "NIRCAM.F430M [3.76263767e-01 2.31840983e-05] 0.37671197243776405\n",
      "NIRCAM.F277W [8.39318996e-01 2.22738045e-07] 0.8396218255902558\n",
      "NIRCAM.F090W [3.97343074e+00 1.52916775e-13] 3.973430737704346\n",
      "NIRCAM.F070W [4.76765032e+00 2.74223682e-13] 4.767650320833731\n",
      "NIRCAM.F466N [3.09972207e-01 4.59207859e-05] 0.31061088843864304\n",
      "NIRCAM.F300M [7.25703232e-01 4.86914987e-07] 0.726094683280678\n",
      "NIRCAM.F250M [9.76750970e-01 3.38990256e-08] 0.9768090407061597\n",
      "NIRCAM.F470N [3.14631320e-01 5.01447047e-05] 0.31531562680870906\n",
      "NIRCAM.F140M [2.44903392e+00 1.18174932e-13] 2.4490339217347783\n",
      "NIRCAM.F115W [3.23338285e+00 6.47720585e-14] 3.2333828481973543\n",
      "NIRCAM.F164N [1.89276200e+00 3.49342212e-12] 1.8927619971760525\n",
      "NIRCAM.F335M [5.87214752e-01 2.10008925e-06] 0.5875054538330033\n",
      "NIRCAM.F200W [1.47180504e+00 7.57125562e-10] 1.4718339959354938\n",
      "NIRCAM.F460M [3.23762965e-01 4.42266723e-05] 0.32438248346953347\n",
      "NIRCAM.F480M [3.01789878e-01 6.00880873e-05] 0.3024236018957527\n",
      "NIRCAM.F182M [1.63578297e+00 8.77091686e-11] 1.6357829723626014\n",
      "NIRCAM.F162M [1.95777668e+00 3.34565401e-12] 1.9577766855146588\n",
      "NIRCAM.F360M [5.10259374e-01 4.80437773e-06] 0.5105375368953546\n",
      "NIRCAM.F360MC [5.10076742e-01 4.84242440e-06] 0.5103522270650017\n",
      "NIRCAM.F182MC [1.59600709e+00 1.11362684e-10] 1.5960070919462552\n",
      "NIRCAM.F300MC [7.23775919e-01 2.76104107e-06] 0.7241587330506587\n",
      "NIRCAM.F480MC [3.02493129e-01 5.94416099e-05] 0.30311703348082525\n",
      "NIRCAM.F212NC [1.31443812e+00 1.37466384e-09] 1.3144396826958957\n",
      "NIRCAM.F200WC [1.44136815e+00 8.26926640e-10] 1.44137969746212\n",
      "NIRCAM.F277WC [8.40731839e-01 2.64902280e-06] 0.8410421979640226\n",
      "NIRCAM.F430MC [3.76505922e-01 2.42114953e-05] 0.37694492518863787\n",
      "NIRCAM.F187NC [1.55246350e+00 9.05162322e-11] 1.5524726478217228\n",
      "NIRCAM.F410MC [4.10708171e-01 1.55135669e-05] 0.41118871791526856\n",
      "NIRCAM.F444WC [3.65412291e-01 3.14442662e-05] 0.36589661812224783\n",
      "NIRCAM.F322W2C [6.69337751e-01 2.87546669e-06] 0.6695831319301091\n",
      "NIRCAM.F460MC [3.23532019e-01 4.64462774e-05] 0.324152233004284\n",
      "NIRCAM.F335MC [5.86946832e-01 2.10564883e-06] 0.5872384647424675\n",
      "NIRCAM.F250MC [9.75595120e-01 4.81289731e-07] 0.9756140632298393\n",
      "NIRCAM.F356WC [5.32067376e-01 4.70065985e-06] 0.5322992147899914\n",
      "NIRCAM.F210MC [1.34275195e+00 1.21714822e-09] 1.3427519547745363\n"
     ]
    }
   ],
   "source": [
    "# print the model component fluxes for the MIRI bands\n",
    "print(f'filter: {r.model_comps}, total')\n",
    "for i,f in enumerate(r.all_filters):\n",
    "    if 'NIRCAM' in f:\n",
    "        print(f, r.all_comp_phot[:,i], r.all_phot[i])"
   ]
  },
  {
   "cell_type": "code",
   "execution_count": 8,
   "id": "color-avenue",
   "metadata": {},
   "outputs": [
    {
     "name": "stdout",
     "output_type": "stream",
     "text": [
      "filter: ('phoenix_m', 'modbb_disk_r'), total\n",
      "NIRCAM.F250MC [9.75595120e-01 4.81289731e-07] 0.9756140632298393\n"
     ]
    }
   ],
   "source": [
    "# print the model component fluxes for the MIRI bands\n",
    "print(f'filter: {r.model_comps}, total')\n",
    "for i,f in enumerate(r.all_filters):\n",
    "    if 'NIRCAM.F250MC' in f:\n",
    "        print(f, r.all_comp_phot[:,i], r.all_phot[i])\n",
    "        dist = r.distributions['all_phot'][i]"
   ]
  },
  {
   "cell_type": "code",
   "execution_count": 12,
   "id": "equivalent-nickname",
   "metadata": {},
   "outputs": [
    {
     "data": {
      "text/plain": [
       "Text(0.5, 0, 'flux / Jy')"
      ]
     },
     "execution_count": 12,
     "metadata": {},
     "output_type": "execute_result"
    },
    {
     "data": {
      "image/png": "[encoded data removed]",
      "text/plain": [
       "<Figure size 432x288 with 1 Axes>"
      ]
     },
     "metadata": {
      "needs_background": "light"
     },
     "output_type": "display_data"
    }
   ],
   "source": [
    "fig, ax = plt.subplots()\n",
    "ax.hist(dist)\n",
    "ax.set_xlabel('flux / Jy')"
   ]
  },
  {
   "cell_type": "code",
   "execution_count": null,
   "id": "starting-universal",
   "metadata": {},
   "outputs": [],
   "source": []
  }
 ],
 "metadata": {
  "kernelspec": {
   "display_name": "Python 3",
   "language": "python",
   "name": "python3"
  },
  "language_info": {
   "codemirror_mode": {
    "name": "ipython",
    "version": 3
   },
   "file_extension": ".py",
   "mimetype": "text/x-python",
   "name": "python",
   "nbconvert_exporter": "python",
   "pygments_lexer": "ipython3",
   "version": "3.9.5"
  }
 },
 "nbformat": 4,
 "nbformat_minor": 5
}
