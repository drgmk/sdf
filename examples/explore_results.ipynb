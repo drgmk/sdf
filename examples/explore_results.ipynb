{
 "cells": [
  {
   "cell_type": "markdown",
   "id": "opposed-feedback",
   "metadata": {},
   "source": [
    "## Explore `sdf` output\n",
    "`sdf` generates a large amount of information during fitting. Most of this is saved in a database that isn't visible on the web, and also in `pickle` files that can be found for each model under the \"...\" link.\n",
    "\n",
    "A simpler output is the `json` files under the \"model\" link, there is less detail here, but they are sufficient for plotting.\n",
    "\n",
    "To just explore the output you can probably avoid installing the `sdf` package."
   ]
  },
  {
   "cell_type": "code",
   "id": "dying-boards",
   "metadata": {
    "ExecuteTime": {
     "end_time": "2025-01-17T09:46:46.496221Z",
     "start_time": "2025-01-17T09:46:46.485377Z"
    }
   },
   "source": [
    "import requests\n",
    "import pickle\n",
    "import matplotlib.pyplot as plt\n",
    "\n",
    "%matplotlib inline"
   ],
   "outputs": [],
   "execution_count": 20
  },
  {
   "metadata": {
    "ExecuteTime": {
     "end_time": "2025-01-17T09:46:46.511099Z",
     "start_time": "2025-01-17T09:46:46.508767Z"
    }
   },
   "cell_type": "code",
   "source": "sdbid = 'sdb-v2-105628.83+070052.3'",
   "id": "3a193615d90823fb",
   "outputs": [],
   "execution_count": 21
  },
  {
   "cell_type": "markdown",
   "id": "outstanding-special",
   "metadata": {},
   "source": [
    "### json output\n",
    "To explore json output we don't need any special packages. Either download directly with `requests`, or open with the `json` module."
   ]
  },
  {
   "cell_type": "code",
   "id": "constant-softball",
   "metadata": {
    "ExecuteTime": {
     "end_time": "2025-01-17T09:46:49.483168Z",
     "start_time": "2025-01-17T09:46:46.521153Z"
    }
   },
   "source": [
    "url = f'http://drgmk.com/sdb/seds/masters/{sdbid}/public/{sdbid}-mnest/phoenix_sol+modbb_disk_r_.json'\n",
    "r = requests.get(url)"
   ],
   "outputs": [],
   "execution_count": 22
  },
  {
   "cell_type": "code",
   "id": "enabling-angola",
   "metadata": {
    "ExecuteTime": {
     "end_time": "2025-01-17T09:46:49.512306Z",
     "start_time": "2025-01-17T09:46:49.498673Z"
    }
   },
   "source": [
    "d = r.json()"
   ],
   "outputs": [],
   "execution_count": 23
  },
  {
   "cell_type": "code",
   "id": "important-validation",
   "metadata": {
    "ExecuteTime": {
     "end_time": "2025-01-17T09:46:49.522619Z",
     "start_time": "2025-01-17T09:46:49.519604Z"
    }
   },
   "source": [
    "for k in d.keys():\n",
    "    print(k, type(d[k]))"
   ],
   "outputs": [
    {
     "name": "stdout",
     "output_type": "stream",
     "text": [
      "id <class 'str'>\n",
      "write_time <class 'float'>\n",
      "model_comps <class 'list'>\n",
      "main_results <class 'list'>\n",
      "parameters <class 'list'>\n",
      "best_params <class 'list'>\n",
      "best_params_1sig <class 'list'>\n",
      "chisq <class 'float'>\n",
      "phot_band <class 'list'>\n",
      "phot_wavelength <class 'list'>\n",
      "phot_fnujy <class 'list'>\n",
      "phot_e_fnujy <class 'list'>\n",
      "phot_upperlim <class 'list'>\n",
      "phot_ignore <class 'list'>\n",
      "model_comp_fnujy <class 'list'>\n",
      "model_comp_fnujy_1sig <class 'list'>\n",
      "model_total_fnujy <class 'list'>\n",
      "model_total_fnujy_1sig <class 'list'>\n",
      "spectra <class 'list'>\n",
      "model_spectra <class 'list'>\n",
      "star_spec <class 'dict'>\n",
      "disk_spec <class 'dict'>\n"
     ]
    }
   ],
   "execution_count": 24
  },
  {
   "cell_type": "markdown",
   "id": "affected-receipt",
   "metadata": {},
   "source": [
    "The information contained in the json is largely related to the observational data, e.g. photometry and models in the observed bands.\n",
    "\n",
    "There are also spectra for each model component."
   ]
  },
  {
   "cell_type": "markdown",
   "id": "toxic-anthony",
   "metadata": {},
   "source": [
    "### pickle output\n",
    "To explore the pickle data we need the `pickle` package. There is a tonne of information saved here, including fluxes for the models in all bands known to `sdf`, and the distributions from which those fluxes were derived."
   ]
  },
  {
   "cell_type": "code",
   "id": "printable-engine",
   "metadata": {
    "ExecuteTime": {
     "end_time": "2025-01-17T09:47:30.708299Z",
     "start_time": "2025-01-17T09:46:49.530165Z"
    }
   },
   "source": "s = requests.get(f'http://drgmk.com/sdb/seds/masters/{sdbid}/public/{sdbid}-mnest/phoenix_sol+modbb_disk_r_.pkl')",
   "outputs": [],
   "execution_count": 25
  },
  {
   "cell_type": "code",
   "id": "religious-moisture",
   "metadata": {
    "ExecuteTime": {
     "end_time": "2025-01-17T09:47:30.760363Z",
     "start_time": "2025-01-17T09:47:30.741001Z"
    }
   },
   "source": [
    "r = pickle.loads(s.content)"
   ],
   "outputs": [],
   "execution_count": 26
  },
  {
   "cell_type": "code",
   "id": "corporate-secondary",
   "metadata": {
    "ExecuteTime": {
     "end_time": "2025-01-17T09:47:30.790469Z",
     "start_time": "2025-01-17T09:47:30.784795Z"
    }
   },
   "source": [
    "# print the model component fluxes for the NIRCAM bands\n",
    "print(f'filter: {r.model_comps}, total')\n",
    "for i,f in enumerate(r.all_filters):\n",
    "    if 'NIRCAM' in f:\n",
    "        print(f, r.all_comp_phot[:,i], r.all_phot[i])"
   ],
   "outputs": [
    {
     "name": "stdout",
     "output_type": "stream",
     "text": [
      "filter: ('phoenix_sol', 'modbb_disk_r'), total\n",
      "NIRCAM.F150W [2.17950193e+000 1.80365831e-113] 2.1795019322267675\n",
      "NIRCAM.F405N [1.29516383e+000 3.04228450e-106] 1.2951638326082477\n",
      "NIRCAM.F323N [1.27168280e+000 1.46203273e-109] 1.271682804333115\n",
      "NIRCAM.F210M [2.05226982e+000 9.55447210e-113] 2.0522698168597815\n",
      "NIRCAM.F150W2 [2.12812595e+000 5.40921229e-113] 2.1281259533213177\n",
      "NIRCAM.F212N [2.11271493e+000 2.12398329e-113] 2.1127149276867714\n",
      "NIRCAM.F444W [1.04482296e+000 1.90151994e-107] 1.0448229640852085\n",
      "NIRCAM.F322W2 [1.35090672e+000 1.44534698e-108] 1.350906715828009\n",
      "NIRCAM.F356W [1.36228557e+000 1.06865901e-108] 1.3622856679608495\n",
      "NIRCAM.F410M [1.26798402e+000 1.72214377e-106] 1.2679843045838326\n",
      "NIRCAM.F187N [1.83759521e+000 2.05298226e-113] 1.8375952118969834\n",
      "NIRCAM.F430M [1.09345149e+000 1.44172143e-108] 1.0934514942271554\n",
      "NIRCAM.F277W [1.34249220e+000 3.67432172e-108] 1.342492196021113\n",
      "NIRCAM.F090W [8.39770525e-001 2.59055666e-113] 0.8397705250558736\n",
      "NIRCAM.F070W [1.09555898e-001 2.72509904e-113] 0.10955589792857266\n",
      "NIRCAM.F466N [8.54387012e-001 2.27944057e-107] 0.8543870122192492\n",
      "NIRCAM.F300M [1.22241369e+000 3.30887321e-108] 1.2224136904908214\n",
      "NIRCAM.F250M [1.50248812e+000 1.03887326e-107] 1.5024881174727298\n",
      "NIRCAM.F470N [8.50381809e-001 2.34191981e-107] 0.8503818435289678\n",
      "NIRCAM.F140M [1.91153599e+000 1.85456077e-113] 1.911535989391701\n",
      "NIRCAM.F115W [2.00443365e+000 1.79749478e-113] 2.0044336516222536\n",
      "NIRCAM.F164N [2.81782919e+000 3.30798958e-113] 2.817829186688619\n",
      "NIRCAM.F335M [1.32417438e+000 8.50360546e-109] 1.3241743812446325\n",
      "NIRCAM.F200W [2.01424636e+000 1.01919939e-112] 2.0142463558395765\n",
      "NIRCAM.F460M [8.56476936e-001 1.03913592e-107] 0.8564769355815912\n",
      "NIRCAM.F480M [8.19097885e-001 1.90179888e-107] 0.8190979212155021\n",
      "NIRCAM.F182M [2.03742130e+000 5.38405514e-113] 2.0374213036569593\n",
      "NIRCAM.F162M [2.65292308e+000 2.59138471e-113] 2.652923081452613\n",
      "NIRCAM.F360M [1.39468182e+000 2.81187500e-108] 1.3946818173851823\n",
      "NIRCAM.F360MC [1.39485738e+00 2.05500696e-33] 1.394857377709659\n",
      "NIRCAM.F182MC [1.96931979e+000 6.70897000e-113] 1.9693197939749325\n",
      "NIRCAM.F300MC [1.22104312e+00 1.72940538e-28] 1.2210431235628043\n",
      "NIRCAM.F480MC [8.21206158e-01 7.32470983e-30] 0.8212061946022213\n",
      "NIRCAM.F212NC [2.11244753e+000 2.14458063e-113] 2.1124475288941786\n",
      "NIRCAM.F200WC [2.00319506e+000 1.01883236e-112] 2.003195064766174\n",
      "NIRCAM.F277WC [1.34495031e+00 1.94165937e-28] 1.3449503065417854\n",
      "NIRCAM.F430MC [1.09331482e+00 1.16489516e-28] 1.093314824285136\n",
      "NIRCAM.F187NC [1.83913733e+000 2.75608865e-113] 1.8391373254808094\n",
      "NIRCAM.F410MC [1.26864483e+00 1.37589910e-30] 1.2686451139681039\n",
      "NIRCAM.F444WC [1.05564014e+00 2.73836970e-30] 1.0556401381717815\n",
      "NIRCAM.F322W2C [1.35350854e+00 6.02587428e-30] 1.3535085432227092\n",
      "NIRCAM.F460MC [8.55597708e-01 2.28537422e-28] 0.8555977082036635\n",
      "NIRCAM.F335MC [1.32445659e+000 2.33663741e-107] 1.3244565913714623\n",
      "NIRCAM.F250MC [1.50235242e+00 3.53954745e-29] 1.5023524231424878\n",
      "NIRCAM.F356WC [1.36297864e+000 8.50236788e-109] 1.3629787414600782\n",
      "NIRCAM.F210MC [2.04732665e+000 9.45892652e-113] 2.047326646744721\n"
     ]
    }
   ],
   "execution_count": 27
  },
  {
   "cell_type": "code",
   "id": "color-avenue",
   "metadata": {
    "ExecuteTime": {
     "end_time": "2025-01-17T09:47:30.799791Z",
     "start_time": "2025-01-17T09:47:30.796737Z"
    }
   },
   "source": [
    "# look at the flux distribution for a specific filter\n",
    "filter = 'NIRCAM.F250MC'\n",
    "\n",
    "for i,f in enumerate(r.all_filters):\n",
    "    if filter in f:\n",
    "        print(f, r.all_comp_phot[:,i], r.all_phot[i])\n",
    "        dist = r.distributions['all_phot'][i]"
   ],
   "outputs": [
    {
     "name": "stdout",
     "output_type": "stream",
     "text": [
      "NIRCAM.F250MC [1.50235242e+00 3.53954745e-29] 1.5023524231424878\n"
     ]
    }
   ],
   "execution_count": 28
  },
  {
   "cell_type": "code",
   "id": "equivalent-nickname",
   "metadata": {
    "ExecuteTime": {
     "end_time": "2025-01-17T09:47:31.023768Z",
     "start_time": "2025-01-17T09:47:30.927797Z"
    }
   },
   "source": [
    "fig, ax = plt.subplots()\n",
    "ax.hist(dist)\n",
    "ax.set_xlabel('flux / Jy')\n",
    "fig.tight_layout()"
   ],
   "outputs": [
    {
     "data": {
      "text/plain": [
       "<Figure size 640x480 with 1 Axes>"
      ],
      "image/png": "[encoded data removed]"
     },
     "metadata": {},
     "output_type": "display_data"
    }
   ],
   "execution_count": 29
  },
  {
   "cell_type": "code",
   "id": "starting-universal",
   "metadata": {
    "ExecuteTime": {
     "end_time": "2025-01-17T09:47:31.046772Z",
     "start_time": "2025-01-17T09:47:31.037300Z"
    }
   },
   "source": [
    "# get the fluxes as magnitudes\n",
    "# for this we need sdf which has zero points derived from the CALSPEC Vega spectrum\n",
    "import sdf.filter\n",
    "import numpy as np\n",
    "\n",
    "f = sdf.filter.Filter.get(filter)\n",
    "print(f'zero point for {filter}: {f.zero_point:.2f} Jy')\n",
    "print(f'{np.median(f.flux2mag(dist)):.3f} +/- {np.std(f.flux2mag(dist)):.3f} mag (Vega STIS)')"
   ],
   "outputs": [
    {
     "name": "stdout",
     "output_type": "stream",
     "text": [
      "zero point for NIRCAM.F250MC: 513.84 Jy\n",
      "6.335 +/- 0.013 mag (Vega STIS)\n"
     ]
    }
   ],
   "execution_count": 30
  },
  {
   "metadata": {
    "ExecuteTime": {
     "end_time": "2025-01-17T09:47:31.061639Z",
     "start_time": "2025-01-17T09:47:31.058482Z"
    }
   },
   "cell_type": "code",
   "source": "",
   "id": "ac1082892827981a",
   "outputs": [],
   "execution_count": null
  }
 ],
 "metadata": {
  "kernelspec": {
   "display_name": "Python 3",
   "language": "python",
   "name": "python3"
  },
  "language_info": {
   "codemirror_mode": {
    "name": "ipython",
    "version": 3
   },
   "file_extension": ".py",
   "mimetype": "text/x-python",
   "name": "python",
   "nbconvert_exporter": "python",
   "pygments_lexer": "ipython3",
   "version": "3.9.5"
  }
 },
 "nbformat": 4,
 "nbformat_minor": 5
}
