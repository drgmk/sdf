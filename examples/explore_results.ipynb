{
 "cells": [
  {
   "cell_type": "markdown",
   "id": "opposed-feedback",
   "metadata": {},
   "source": [
    "## Explore `sdf` output\n",
    "`sdf` generates a large amount of information during fitting. Most of this is saved in a database that isn't visible on the web, and also in `pickle` files that can be found for each model under the \"...\" link.\n",
    "\n",
    "A simpler output is the `json` files under the \"model\" link, there is less detail here, but they are sufficient for plotting.\n",
    "\n",
    "To just explore the output you can probably avoid installing the `sdf` package."
   ]
  },
  {
   "cell_type": "code",
   "execution_count": 1,
   "id": "dying-boards",
   "metadata": {},
   "outputs": [],
   "source": [
    "import requests\n",
    "import pickle"
   ]
  },
  {
   "cell_type": "markdown",
   "id": "outstanding-special",
   "metadata": {},
   "source": [
    "### json output\n",
    "To explore json output we don't need any special packages. Either download directly with `requests`, or open with the `json` module."
   ]
  },
  {
   "cell_type": "code",
   "execution_count": 2,
   "id": "constant-softball",
   "metadata": {},
   "outputs": [],
   "source": [
    "r = requests.get('http://drgmk.com/sdb/seds/masters/'\n",
    "                 'sdb-v2-132436.10-513016.1/public/sdb-v2-132436.10-513016.1-mnest/phoenix_m+modbb_disk_r_.json')"
   ]
  },
  {
   "cell_type": "code",
   "execution_count": 3,
   "id": "enabling-angola",
   "metadata": {},
   "outputs": [],
   "source": [
    "d = r.json()"
   ]
  },
  {
   "cell_type": "code",
   "execution_count": 4,
   "id": "important-validation",
   "metadata": {},
   "outputs": [
    {
     "name": "stdout",
     "output_type": "stream",
     "text": [
      "id <class 'str'>\n",
      "write_time <class 'float'>\n",
      "model_comps <class 'list'>\n",
      "main_results <class 'list'>\n",
      "parameters <class 'list'>\n",
      "best_params <class 'list'>\n",
      "best_params_1sig <class 'list'>\n",
      "chisq <class 'float'>\n",
      "phot_band <class 'list'>\n",
      "phot_wavelength <class 'list'>\n",
      "phot_fnujy <class 'list'>\n",
      "phot_e_fnujy <class 'list'>\n",
      "phot_upperlim <class 'list'>\n",
      "phot_ignore <class 'list'>\n",
      "model_comp_fnujy <class 'list'>\n",
      "model_comp_fnujy_1sig <class 'list'>\n",
      "model_total_fnujy <class 'list'>\n",
      "model_total_fnujy_1sig <class 'list'>\n",
      "spectra <class 'list'>\n",
      "model_spectra <class 'list'>\n",
      "star_spec <class 'dict'>\n",
      "disk_spec <class 'dict'>\n"
     ]
    }
   ],
   "source": [
    "for k in d.keys():\n",
    "    print(k, type(d[k]))"
   ]
  },
  {
   "cell_type": "markdown",
   "id": "affected-receipt",
   "metadata": {},
   "source": [
    "The information contained in the json is largely related to the observational data, e.g. photometry and models in the observed bands.\n",
    "\n",
    "There are also spectra for each model component."
   ]
  },
  {
   "cell_type": "markdown",
   "id": "toxic-anthony",
   "metadata": {},
   "source": [
    "### pickle output\n",
    "To explore the pickle data we need the `pickle` package. There is a tonne of information saved here, including fluxes for the models in all bands known to `sdf`."
   ]
  },
  {
   "cell_type": "code",
   "execution_count": 5,
   "id": "printable-engine",
   "metadata": {},
   "outputs": [],
   "source": [
    "s = requests.get('http://drgmk.com/sdb/seds/masters/'\n",
    "                 'sdb-v2-132436.10-513016.1/public/sdb-v2-132436.10-513016.1-mnest/phoenix_m+modbb_disk_r_.pkl')"
   ]
  },
  {
   "cell_type": "code",
   "execution_count": 6,
   "id": "religious-moisture",
   "metadata": {},
   "outputs": [
    {
     "name": "stdout",
     "output_type": "stream",
     "text": [
      " Config\n",
      "  found files:\n",
      "['/Users/grant/Library/CloudStorage/OneDrive-UniversityofWarwick/astro/projects/sdf/sdf/sdf/sdf.conf', '/Users/grant/.sdf.conf']\n"
     ]
    }
   ],
   "source": [
    "r = pickle.loads(s.content)"
   ]
  },
  {
   "cell_type": "code",
   "execution_count": 7,
   "id": "corporate-secondary",
   "metadata": {},
   "outputs": [
    {
     "name": "stdout",
     "output_type": "stream",
     "text": [
      "filter: ('phoenix_m', 'modbb_disk_r'), total\n",
      "NIRCAM.F150W [2.22065743e+00 2.39739546e-13] 2.2206574417082376\n",
      "NIRCAM.F405N [4.02678520e-01 9.02910413e-06] 0.4028990204222438\n",
      "NIRCAM.F323N [6.32634443e-01 6.82692525e-07] 0.6326975095728269\n",
      "NIRCAM.F210M [1.34112012e+00 4.69953314e-10] 1.3411201257486232\n",
      "NIRCAM.F150W2 [2.17573114e+00 2.36380034e-10] 2.175731139561903\n",
      "NIRCAM.F212N [1.31594132e+00 5.19356883e-10] 1.3159413226578658\n",
      "NIRCAM.F444W [3.63649529e-01 2.25034739e-05] 0.3638940395063649\n",
      "NIRCAM.F322W2 [6.73026702e-01 1.68737417e-06] 0.6731525452296623\n",
      "NIRCAM.F356W [5.34042428e-01 2.84329626e-06] 0.5341455288263577\n",
      "NIRCAM.F410M [4.11698803e-01 1.00336496e-05] 0.4119031666586719\n",
      "NIRCAM.F187N [1.54017010e+00 2.99546486e-11] 1.5401700957160336\n",
      "NIRCAM.F187NC [1.55594737e+00 3.01139202e-11] 1.5560019287315536\n",
      "NIRCAM.F430M [3.77322484e-01 1.54328611e-05] 0.37753453692013894\n",
      "NIRCAM.F277W [8.40886095e-01 1.11035492e-07] 0.8409132678129733\n",
      "NIRCAM.F090W [3.98016437e+00 6.06046662e-14] 3.980164372007973\n",
      "NIRCAM.F070W [4.76731932e+00 1.08375982e-13] 4.76731931995648\n",
      "NIRCAM.F466N [3.11097705e-01 3.19791560e-05] 0.3113510793029059\n",
      "NIRCAM.F300M [7.27309188e-01 2.48855510e-07] 0.7273566019209978\n",
      "NIRCAM.F250M [9.77560798e-01 1.51756732e-08] 0.9775978498889814\n",
      "NIRCAM.F470N [3.15654369e-01 3.51202828e-05] 0.3159461623713504\n",
      "NIRCAM.F140M [2.44822133e+00 3.91351264e-14] 2.4482216890775117\n",
      "NIRCAM.F115W [3.23413835e+00 2.56296355e-14] 3.2341383487003705\n",
      "NIRCAM.F164N [1.89582942e+00 1.00182792e-12] 1.8958294191745206\n",
      "NIRCAM.F335M [5.88340897e-01 1.19674408e-06] 0.5884632501807869\n",
      "NIRCAM.F200W [1.47281751e+00 2.86758178e-10] 1.4728175185474774\n",
      "NIRCAM.F200WC [1.43788178e+00 3.26320707e-10] 1.4378817945953137\n",
      "NIRCAM.F460M [3.24756785e-01 3.07395676e-05] 0.3250382014656924\n",
      "NIRCAM.F480M [3.02623707e-01 4.24460849e-05] 0.30296663913208366\n",
      "NIRCAM.F182M [1.63767065e+00 2.96383987e-11] 1.6376706451995617\n",
      "NIRCAM.F182MC [1.59684659e+00 3.81206696e-11] 1.59684659297581\n",
      "NIRCAM.F162M [1.95893575e+00 9.60609149e-13] 1.95893575538455\n",
      "NIRCAM.F360M [5.11197775e-01 2.89629487e-06] 0.5113618835491416\n"
     ]
    }
   ],
   "source": [
    "# print the model component fluxes for the MIRI bands\n",
    "print(f'filter: {r.model_comps}, total')\n",
    "for i,f in enumerate(r.all_filters):\n",
    "    if 'NIRCAM' in f:\n",
    "        print(f, r.all_comp_phot[:,i], r.all_phot[i])"
   ]
  },
  {
   "cell_type": "code",
   "execution_count": null,
   "id": "color-avenue",
   "metadata": {},
   "outputs": [],
   "source": []
  }
 ],
 "metadata": {
  "kernelspec": {
   "display_name": "Python 3",
   "language": "python",
   "name": "python3"
  },
  "language_info": {
   "codemirror_mode": {
    "name": "ipython",
    "version": 3
   },
   "file_extension": ".py",
   "mimetype": "text/x-python",
   "name": "python",
   "nbconvert_exporter": "python",
   "pygments_lexer": "ipython3",
   "version": "3.9.12"
  }
 },
 "nbformat": 4,
 "nbformat_minor": 5
}
