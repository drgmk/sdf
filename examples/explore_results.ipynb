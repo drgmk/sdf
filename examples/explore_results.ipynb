{
 "cells": [
  {
   "cell_type": "markdown",
   "id": "opposed-feedback",
   "metadata": {},
   "source": [
    "## Explore `sdf` output\n",
    "`sdf` generates a large amount of information during fitting. Most of this is saved in a database that isn't visible on the web, and also in `pickle` files that can be found for each model under the \"...\" link.\n",
    "\n",
    "A simpler output is the `json` files under the \"model\" link, there is less detail here, but they are sufficient for plotting.\n",
    "\n",
    "To just explore the output you can probably avoid installing the `sdf` package."
   ]
  },
  {
   "cell_type": "code",
   "execution_count": 1,
   "id": "dying-boards",
   "metadata": {},
   "outputs": [],
   "source": [
    "import requests\n",
    "import pickle"
   ]
  },
  {
   "cell_type": "markdown",
   "id": "outstanding-special",
   "metadata": {},
   "source": [
    "### json output\n",
    "To explore json output we don't need any special packages. Either download directly with `requests`, or open with the `json` module."
   ]
  },
  {
   "cell_type": "code",
   "execution_count": 2,
   "id": "constant-softball",
   "metadata": {},
   "outputs": [],
   "source": [
    "r = requests.get('http://drgmk.com/sdb/seds/masters/'\n",
    "                 'sdb-v2-132436.10-513016.1/public/sdb-v2-132436.10-513016.1-mnest/phoenix_m+modbb_disk_r_.json')"
   ]
  },
  {
   "cell_type": "code",
   "execution_count": 3,
   "id": "enabling-angola",
   "metadata": {},
   "outputs": [],
   "source": [
    "d = r.json()"
   ]
  },
  {
   "cell_type": "code",
   "execution_count": 4,
   "id": "important-validation",
   "metadata": {},
   "outputs": [
    {
     "name": "stdout",
     "output_type": "stream",
     "text": [
      "id <class 'str'>\n",
      "write_time <class 'float'>\n",
      "model_comps <class 'list'>\n",
      "main_results <class 'list'>\n",
      "parameters <class 'list'>\n",
      "best_params <class 'list'>\n",
      "best_params_1sig <class 'list'>\n",
      "chisq <class 'float'>\n",
      "phot_band <class 'list'>\n",
      "phot_wavelength <class 'list'>\n",
      "phot_fnujy <class 'list'>\n",
      "phot_e_fnujy <class 'list'>\n",
      "phot_upperlim <class 'list'>\n",
      "phot_ignore <class 'list'>\n",
      "model_comp_fnujy <class 'list'>\n",
      "model_comp_fnujy_1sig <class 'list'>\n",
      "model_total_fnujy <class 'list'>\n",
      "model_total_fnujy_1sig <class 'list'>\n",
      "spectra <class 'list'>\n",
      "model_spectra <class 'list'>\n",
      "star_spec <class 'dict'>\n",
      "disk_spec <class 'dict'>\n"
     ]
    }
   ],
   "source": [
    "for k in d.keys():\n",
    "    print(k, type(d[k]))"
   ]
  },
  {
   "cell_type": "markdown",
   "id": "affected-receipt",
   "metadata": {},
   "source": [
    "The information contained in the json is largely related to the observational data, e.g. photometry and models in the observed bands.\n",
    "\n",
    "There are also spectra for each model component."
   ]
  },
  {
   "cell_type": "markdown",
   "id": "toxic-anthony",
   "metadata": {},
   "source": [
    "### pickle output\n",
    "To explore the pickle data we need the `pickle` package. There is a tonne of information saved here, including fluxes for the models in all bands known to `sdf`."
   ]
  },
  {
   "cell_type": "code",
   "execution_count": 5,
   "id": "printable-engine",
   "metadata": {},
   "outputs": [],
   "source": [
    "s = requests.get('http://drgmk.com/sdb/seds/masters/'\n",
    "                 'sdb-v2-132436.10-513016.1/public/sdb-v2-132436.10-513016.1-mnest/phoenix_m+modbb_disk_r_.pkl')"
   ]
  },
  {
   "cell_type": "code",
   "execution_count": 6,
   "id": "religious-moisture",
   "metadata": {},
   "outputs": [
    {
     "name": "stdout",
     "output_type": "stream",
     "text": [
      " Config\n",
      "  found files:\n",
      "['/Users/grant/Library/CloudStorage/OneDrive-UniversityofWarwick/astro/projects/sdf/sdf/sdf/sdf.conf']\n",
      "  no models in sdf/data/models/\n",
      "  may need to create ~/.sdf.conf\n"
     ]
    }
   ],
   "source": [
    "r = pickle.loads(s.content)"
   ]
  },
  {
   "cell_type": "code",
   "execution_count": 7,
   "id": "corporate-secondary",
   "metadata": {},
   "outputs": [
    {
     "name": "stdout",
     "output_type": "stream",
     "text": [
      "filter: ('phoenix_m', 'modbb_disk_r'), total\n",
      "NIRCAM.F150W [2.13198342e+00 2.34871722e-08] 2.131984512453575\n",
      "NIRCAM.F405N [0.37867233 0.00060907] 0.37977122579817574\n",
      "NIRCAM.F323N [5.97448948e-01 1.58234883e-04] 0.5979389866530374\n",
      "NIRCAM.F210M [1.27483207e+00 2.53378948e-06] 1.2749226875554802\n",
      "NIRCAM.F150W2 [2.08534787e+00 9.25090669e-07] 2.085361309952109\n",
      "NIRCAM.F212N [1.25275230e+00 2.81024833e-06] 1.2529138025740396\n",
      "NIRCAM.F444W [0.34194737 0.00090665] 0.34332980317784306\n",
      "NIRCAM.F322W2 [6.35532763e-01 1.96672480e-04] 0.6359075787536583\n",
      "NIRCAM.F356W [5.03588441e-01 3.12083594e-04] 0.5043522468969883\n",
      "NIRCAM.F410M [0.38742794 0.0006344 ] 0.38861480314580754\n",
      "NIRCAM.F187N [1.44771356e+00 5.31897042e-07] 1.4477258729485456\n",
      "NIRCAM.F430M [0.35474033 0.00079253] 0.35602958177886135\n",
      "NIRCAM.F277W [7.94793223e-01 5.10092785e-05] 0.7950676641182637\n",
      "NIRCAM.F090W [3.83644138e+00 2.20437153e-10] 3.8364413751864346\n",
      "NIRCAM.F070W [4.72662259e+00 4.01142223e-10] 4.726622590361215\n",
      "NIRCAM.F466N [0.29056508 0.00112368] 0.29233198426850243\n",
      "NIRCAM.F300M [6.86319813e-01 8.86560803e-05] 0.6865434154889383\n",
      "NIRCAM.F250M [9.27528783e-01 1.80161158e-05] 0.9276729616544367\n",
      "NIRCAM.F470N [0.2960478  0.00117551] 0.2977118149911463\n",
      "NIRCAM.F140M [2.35922450e+00 4.74128834e-09] 2.359224682465027\n",
      "NIRCAM.F115W [3.11979511e+00 2.20047976e-10] 3.119795108506838\n",
      "NIRCAM.F164N [1.79761324e+00 7.06919359e-08] 1.7976132608526245\n",
      "NIRCAM.F335M [5.55167958e-01 2.07027442e-04] 0.5557361875499447\n",
      "NIRCAM.F200W [1.39857455e+00 1.62943073e-06] 1.3985879338318101\n",
      "NIRCAM.F460M [0.3047133 0.0011012] 0.30636445813645974\n",
      "NIRCAM.F480M [0.28444452 0.00128121] 0.28613084859736704\n",
      "NIRCAM.F182M [1.55235274e+00 4.79867626e-07] 1.5523782896217333\n",
      "NIRCAM.F162M [1.86367313e+00 6.56684258e-08] 1.8636748400486955\n",
      "NIRCAM.F360M [4.82151070e-01 3.33003743e-04] 0.48283734136684964\n",
      "NIRCAM.F360MC [4.81980971e-01 3.33625261e-04] 0.48266301243103643\n",
      "NIRCAM.F182MC [1.51441885e+00 5.68172485e-07] 1.5144188915855143\n",
      "NIRCAM.F300MC [6.84519160e-01 9.34635018e-05] 0.6847442015612182\n",
      "NIRCAM.F480MC [0.28507448 0.00127337] 0.286774753362942\n",
      "NIRCAM.F212NC [1.25115838e+00 2.80927386e-06] 1.251248347606305\n",
      "NIRCAM.F200WC [1.36963825e+00 1.77248578e-06] 1.3696792376654607\n",
      "NIRCAM.F277WC [7.96296579e-01 5.46497161e-05] 0.796582577782317\n",
      "NIRCAM.F430MC [0.35497173 0.0007942 ] 0.3562534440997308\n",
      "NIRCAM.F187NC [1.46822383e+00 5.33558361e-07] 1.4682310308714355\n",
      "NIRCAM.F410MC [0.38753533 0.00063393] 0.38872369410208196\n",
      "NIRCAM.F444WC [0.34457516 0.0008892 ] 0.3459568545689282\n",
      "NIRCAM.F322W2C [6.33299418e-01 2.00194424e-04] 0.6336947490386956\n",
      "NIRCAM.F460MC [0.30453052 0.00110414] 0.3061799462521227\n",
      "NIRCAM.F335MC [5.54915481e-01 2.07344433e-04] 0.5554830422458842\n",
      "NIRCAM.F250MC [9.26770326e-01 1.85211062e-05] 0.9268810452036021\n",
      "NIRCAM.F356WC [5.02711204e-01 3.13735434e-04] 0.5034730578265443\n",
      "NIRCAM.F210MC [1.27738924e+00 2.50433331e-06] 1.2775053396715228\n"
     ]
    }
   ],
   "source": [
    "# print the model component fluxes for the MIRI bands\n",
    "print(f'filter: {r.model_comps}, total')\n",
    "for i,f in enumerate(r.all_filters):\n",
    "    if 'NIRCAM' in f:\n",
    "        print(f, r.all_comp_phot[:,i], r.all_phot[i])"
   ]
  },
  {
   "cell_type": "code",
   "execution_count": null,
   "id": "color-avenue",
   "metadata": {},
   "outputs": [],
   "source": []
  }
 ],
 "metadata": {
  "kernelspec": {
   "display_name": "Python 3 (ipykernel)",
   "language": "python",
   "name": "python3"
  },
  "language_info": {
   "codemirror_mode": {
    "name": "ipython",
    "version": 3
   },
   "file_extension": ".py",
   "mimetype": "text/x-python",
   "name": "python",
   "nbconvert_exporter": "python",
   "pygments_lexer": "ipython3",
   "version": "3.9.10"
  }
 },
 "nbformat": 4,
 "nbformat_minor": 5
}
