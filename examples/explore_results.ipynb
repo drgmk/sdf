{
 "cells": [
  {
   "cell_type": "markdown",
   "id": "opposed-feedback",
   "metadata": {},
   "source": [
    "## Explore `sdf` output\n",
    "`sdf` generates a large amount of information during fitting. Most of this is saved in a database that isn't visible on the web, and also in `pickle` files that can be found for each model under the \"...\" link.\n",
    "\n",
    "A simpler output is the `json` files under the \"model\" link, there is less detail here, but they are sufficient for plotting.\n",
    "\n",
    "To just explore the output you can probably avoid installing the `sdf` package."
   ]
  },
  {
   "cell_type": "code",
   "execution_count": 1,
   "id": "dying-boards",
   "metadata": {},
   "outputs": [],
   "source": [
    "import requests\n",
    "import pickle"
   ]
  },
  {
   "cell_type": "markdown",
   "id": "outstanding-special",
   "metadata": {},
   "source": [
    "### json output\n",
    "To explore json output we don't need any special packages. Either download directly with `requests`, or open with the `json` module."
   ]
  },
  {
   "cell_type": "code",
   "execution_count": 2,
   "id": "constant-softball",
   "metadata": {},
   "outputs": [],
   "source": [
    "r = requests.get('http://drgmk.com/sdb/seds/masters/'\n",
    "                 'sdb-v2-132436.10-513016.1/public/sdb-v2-132436.10-513016.1-mnest/phoenix_m+modbb_disk_r_.json')"
   ]
  },
  {
   "cell_type": "code",
   "execution_count": 3,
   "id": "enabling-angola",
   "metadata": {},
   "outputs": [],
   "source": [
    "d = r.json()"
   ]
  },
  {
   "cell_type": "code",
   "execution_count": 4,
   "id": "important-validation",
   "metadata": {},
   "outputs": [
    {
     "name": "stdout",
     "output_type": "stream",
     "text": [
      "id <class 'str'>\n",
      "write_time <class 'float'>\n",
      "model_comps <class 'list'>\n",
      "main_results <class 'list'>\n",
      "parameters <class 'list'>\n",
      "best_params <class 'list'>\n",
      "best_params_1sig <class 'list'>\n",
      "chisq <class 'float'>\n",
      "phot_band <class 'list'>\n",
      "phot_wavelength <class 'list'>\n",
      "phot_fnujy <class 'list'>\n",
      "phot_e_fnujy <class 'list'>\n",
      "phot_upperlim <class 'list'>\n",
      "phot_ignore <class 'list'>\n",
      "model_comp_fnujy <class 'list'>\n",
      "model_comp_fnujy_1sig <class 'list'>\n",
      "model_total_fnujy <class 'list'>\n",
      "model_total_fnujy_1sig <class 'list'>\n",
      "spectra <class 'list'>\n",
      "model_spectra <class 'list'>\n",
      "star_spec <class 'dict'>\n",
      "disk_spec <class 'dict'>\n"
     ]
    }
   ],
   "source": [
    "for k in d.keys():\n",
    "    print(k, type(d[k]))"
   ]
  },
  {
   "cell_type": "markdown",
   "id": "affected-receipt",
   "metadata": {},
   "source": [
    "The information contained in the json is largely related to the observational data, e.g. photometry and models in the observed bands.\n",
    "\n",
    "There are also spectra for each model component."
   ]
  },
  {
   "cell_type": "markdown",
   "id": "toxic-anthony",
   "metadata": {},
   "source": [
    "### pickle output\n",
    "To explore the pickle data we need the `pickle` package. There is a tonne of information saved here, including fluxes for the models in all bands known to `sdf`."
   ]
  },
  {
   "cell_type": "code",
   "execution_count": 5,
   "id": "printable-engine",
   "metadata": {},
   "outputs": [],
   "source": [
    "s = requests.get('http://drgmk.com/sdb/seds/masters/'\n",
    "                 'sdb-v2-132436.10-513016.1/public/sdb-v2-132436.10-513016.1-mnest/phoenix_m+modbb_disk_r_.pkl')"
   ]
  },
  {
   "cell_type": "code",
   "execution_count": 6,
   "id": "religious-moisture",
   "metadata": {},
   "outputs": [
    {
     "name": "stdout",
     "output_type": "stream",
     "text": [
      " Config\n",
      "  found files:\n",
      "['/Users/grant/Library/CloudStorage/OneDrive-UniversityofWarwick/astro/projects/sdf/sdf/sdf/sdf.conf', '/Users/grant/.sdf.conf']\n"
     ]
    }
   ],
   "source": [
    "r = pickle.loads(s.content)"
   ]
  },
  {
   "cell_type": "code",
   "execution_count": 7,
   "id": "corporate-secondary",
   "metadata": {},
   "outputs": [
    {
     "name": "stdout",
     "output_type": "stream",
     "text": [
      "filter: ('phoenix_m', 'modbb_disk_r'), total\n",
      "MIRI.F560W [0.22747165 0.00036146] 0.22868825959040914\n",
      "MIRI.F770W [0.12863864 0.00108924] 0.1303280009095618\n",
      "MIRI.F1000W [0.07618979 0.00189427] 0.07839527048226816\n",
      "MIRI.F1280W [0.05867608 0.00220988] 0.061098058769063206\n",
      "MIRI.F1130W [0.04654477 0.00242885] 0.04907121744937672\n",
      "MIRI.F1500W [0.03386959 0.00255847] 0.03645797741836954\n",
      "MIRI.F1800W [0.02370804 0.00248764] 0.026191606212937323\n",
      "MIRI.F2100W [0.01791005 0.00231372] 0.020245121862749044\n",
      "MIRI.F2550W [0.0119938  0.00204449] 0.014038587641430187\n"
     ]
    }
   ],
   "source": [
    "# print the model component fluxes for the MIRI bands\n",
    "print(f'filter: {r.model_comps}, total')\n",
    "for i,f in enumerate(r.all_filters):\n",
    "    if 'MIRI' in f:\n",
    "        print(f, r.all_comp_phot[:,i], r.all_phot[i])"
   ]
  },
  {
   "cell_type": "code",
   "execution_count": null,
   "id": "color-avenue",
   "metadata": {},
   "outputs": [],
   "source": []
  }
 ],
 "metadata": {
  "kernelspec": {
   "display_name": "Python 3",
   "language": "python",
   "name": "python3"
  },
  "language_info": {
   "codemirror_mode": {
    "name": "ipython",
    "version": 3
   },
   "file_extension": ".py",
   "mimetype": "text/x-python",
   "name": "python",
   "nbconvert_exporter": "python",
   "pygments_lexer": "ipython3",
   "version": "3.9.10"
  }
 },
 "nbformat": 4,
 "nbformat_minor": 5
}
